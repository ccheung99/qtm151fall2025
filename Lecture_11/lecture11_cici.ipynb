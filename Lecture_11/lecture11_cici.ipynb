{
 "cells": [
  {
   "cell_type": "markdown",
   "id": "ffc1e2fe",
   "metadata": {},
   "source": [
    "# <span style=\"color:red\"> Lecture 11: Subsetting Data </span>"
   ]
  },
  {
   "cell_type": "markdown",
   "id": "e9e980d3",
   "metadata": {},
   "source": [
    "<font size = \"4\">\n",
    "\n",
    "Topics you should know up to this point:\n",
    "\n",
    "- *Data Types:* int, float, str, lists, arrays,<br>\n",
    "booleans, pandas dataframes\n",
    "\n",
    "- *Numpy:* mathematical functions <br>\n",
    " and random numbers\n",
    "\n",
    "- If/else statements and *loops*\n",
    "\n",
    "If there are any of these topics you need help <br>\n",
    " understanding, don't be afraid to come to office hours!"
   ]
  },
  {
   "cell_type": "markdown",
   "id": "69b69e45",
   "metadata": {},
   "source": [
    "<font size = \"4\">\n",
    "\n",
    "This lecture:\n",
    "\n",
    "- pandas dataframes\n",
    "- subsetting data"
   ]
  },
  {
   "cell_type": "markdown",
   "id": "925190bf",
   "metadata": {},
   "source": [
    "## <span style=\"color:red\"> I. Import Libraries and Read Files</span>"
   ]
  },
  {
   "cell_type": "code",
   "execution_count": 1,
   "id": "b672d551",
   "metadata": {},
   "outputs": [],
   "source": [
    "# the \"pandas\" library is for manipualting datasets\n",
    "# the \"matplotlib.pyplot\" library is for creating graphs\n",
    "import pandas as pd\n",
    "import matplotlib.pyplot as plt"
   ]
  },
  {
   "cell_type": "markdown",
   "id": "dee0bfc2",
   "metadata": {},
   "source": [
    "<font size = \"4\">\n",
    "\n",
    "How should I load in the .csv file inside the data_raw folder?"
   ]
  },
  {
   "cell_type": "code",
   "execution_count": 5,
   "id": "ad3f4fc7",
   "metadata": {},
   "outputs": [],
   "source": [
    "# Read the car features dataset\n",
    "\n",
    "carfeatures = pd.read_csv(\"data_raw/subfolder1/annoying_subfolder/features.csv\")"
   ]
  },
  {
   "cell_type": "code",
   "execution_count": 6,
   "id": "13c230bc",
   "metadata": {},
   "outputs": [
    {
     "data": {
      "text/plain": [
       "pandas.core.frame.DataFrame"
      ]
     },
     "execution_count": 6,
     "metadata": {},
     "output_type": "execute_result"
    }
   ],
   "source": [
    "type(carfeatures)"
   ]
  },
  {
   "cell_type": "markdown",
   "id": "5bd5b246",
   "metadata": {},
   "source": [
    "## <span style=\"color:red\"> II. Basic data display </span>\n",
    "\n",
    "<font size = \"4\">\n",
    "\n",
    "- Go to the Jupyter Variables tab at the top of the notebook. Then click on icon to the left of \"carfeatures\"\n",
    "- OR type ``print(carfeatures)``\n",
    "- OR simply type ``carfeatures`` as the last line of a cell"
   ]
  },
  {
   "cell_type": "code",
   "execution_count": 7,
   "id": "226f1cb8",
   "metadata": {},
   "outputs": [
    {
     "name": "stdout",
     "output_type": "stream",
     "text": [
      "      mpg  cylinders  displacement horsepower  weight  acceleration vehicle_id\n",
      "0    18.0          8           307        130    3504          12.0  C-1689780\n",
      "1    15.0          8           350        165    3693          11.5  B-1689791\n",
      "2    18.0          8           318        150    3436          11.0  P-1689802\n",
      "3    16.0          8           304        150    3433          12.0  A-1689813\n",
      "4    17.0          8           302        140    3449          10.5  F-1689824\n",
      "..    ...        ...           ...        ...     ...           ...        ...\n",
      "393  27.0          4           140         86    2790          15.6  F-1694103\n",
      "394  44.0          4            97         52    2130          24.6  V-1694114\n",
      "395  32.0          4           135         84    2295          11.6  D-1694125\n",
      "396  28.0          4           120         79    2625          18.6  F-1694136\n",
      "397  31.0          4           119         82    2720          19.4  C-1694147\n",
      "\n",
      "[398 rows x 7 columns]\n"
     ]
    }
   ],
   "source": [
    "print(carfeatures)"
   ]
  },
  {
   "cell_type": "code",
   "execution_count": 8,
   "id": "7aa1df78",
   "metadata": {},
   "outputs": [
    {
     "data": {
      "application/vnd.microsoft.datawrangler.viewer.v0+json": {
       "columns": [
        {
         "name": "index",
         "rawType": "int64",
         "type": "integer"
        },
        {
         "name": "mpg",
         "rawType": "float64",
         "type": "float"
        },
        {
         "name": "cylinders",
         "rawType": "int64",
         "type": "integer"
        },
        {
         "name": "displacement",
         "rawType": "int64",
         "type": "integer"
        },
        {
         "name": "horsepower",
         "rawType": "object",
         "type": "unknown"
        },
        {
         "name": "weight",
         "rawType": "int64",
         "type": "integer"
        },
        {
         "name": "acceleration",
         "rawType": "float64",
         "type": "float"
        },
        {
         "name": "vehicle_id",
         "rawType": "object",
         "type": "string"
        }
       ],
       "ref": "27da7ee2-8aa3-42e6-a760-8d804a5dbe0b",
       "rows": [
        [
         "0",
         "18.0",
         "8",
         "307",
         "130",
         "3504",
         "12.0",
         "C-1689780"
        ],
        [
         "1",
         "15.0",
         "8",
         "350",
         "165",
         "3693",
         "11.5",
         "B-1689791"
        ],
        [
         "2",
         "18.0",
         "8",
         "318",
         "150",
         "3436",
         "11.0",
         "P-1689802"
        ],
        [
         "3",
         "16.0",
         "8",
         "304",
         "150",
         "3433",
         "12.0",
         "A-1689813"
        ],
        [
         "4",
         "17.0",
         "8",
         "302",
         "140",
         "3449",
         "10.5",
         "F-1689824"
        ],
        [
         "5",
         "15.0",
         "8",
         "429",
         "198",
         "4341",
         "10.0",
         "F-1689835"
        ],
        [
         "6",
         "14.0",
         "8",
         "454",
         "220",
         "4354",
         "9.0",
         "C-1689846"
        ],
        [
         "7",
         "14.0",
         "8",
         "440",
         "215",
         "4312",
         "8.5",
         "P-1689857"
        ],
        [
         "8",
         "14.0",
         "8",
         "455",
         "225",
         "4425",
         "10.0",
         "P-1689868"
        ],
        [
         "9",
         "15.0",
         "8",
         "390",
         "190",
         "3850",
         "8.5",
         "A-1689879"
        ],
        [
         "10",
         "15.0",
         "8",
         "383",
         "170",
         "3563",
         "10.0",
         "D-1689890"
        ],
        [
         "11",
         "14.0",
         "8",
         "340",
         "160",
         "3609",
         "8.0",
         "P-1689901"
        ],
        [
         "12",
         "15.0",
         "8",
         "400",
         "150",
         "3761",
         "9.5",
         "C-1689912"
        ],
        [
         "13",
         "14.0",
         "8",
         "455",
         "225",
         "3086",
         "10.0",
         "B-1689923"
        ],
        [
         "14",
         "24.0",
         "4",
         "113",
         "95",
         "2372",
         "15.0",
         "T-1689934"
        ],
        [
         "15",
         "22.0",
         "6",
         "198",
         "95",
         "2833",
         "15.5",
         "P-1689945"
        ],
        [
         "16",
         "18.0",
         "6",
         "199",
         "97",
         "2774",
         "15.5",
         "A-1689956"
        ],
        [
         "17",
         "21.0",
         "6",
         "200",
         "85",
         "2587",
         "16.0",
         "F-1689967"
        ],
        [
         "18",
         "27.0",
         "4",
         "97",
         "88",
         "2130",
         "14.5",
         "D-1689978"
        ],
        [
         "19",
         "26.0",
         "4",
         "97",
         "46",
         "1835",
         "20.5",
         "V-1689989"
        ],
        [
         "20",
         "25.0",
         "4",
         "110",
         "87",
         "2672",
         "17.5",
         "P-1690000"
        ],
        [
         "21",
         "24.0",
         "4",
         "107",
         "90",
         "2430",
         "14.5",
         "A-1690011"
        ],
        [
         "22",
         "25.0",
         "4",
         "104",
         "95",
         "2375",
         "17.5",
         "S-1690022"
        ],
        [
         "23",
         "26.0",
         "4",
         "121",
         "113",
         "2234",
         "12.5",
         "B-1690033"
        ],
        [
         "24",
         "21.0",
         "6",
         "199",
         "90",
         "2648",
         "15.0",
         "A-1690044"
        ],
        [
         "25",
         "10.0",
         "8",
         "360",
         "215",
         "4615",
         "14.0",
         "F-1690055"
        ],
        [
         "26",
         "10.0",
         "8",
         "307",
         "200",
         "4376",
         "15.0",
         "C-1690066"
        ],
        [
         "27",
         "11.0",
         "8",
         "318",
         "210",
         "4382",
         "13.5",
         "D-1690077"
        ],
        [
         "28",
         "9.0",
         "8",
         "304",
         "193",
         "4732",
         "18.5",
         "H-1690088"
        ],
        [
         "29",
         "27.0",
         "4",
         "97",
         "88",
         "2130",
         "14.5",
         "D-1690099"
        ],
        [
         "30",
         "28.0",
         "4",
         "140",
         "90",
         "2264",
         "15.5",
         "C-1690110"
        ],
        [
         "31",
         "25.0",
         "4",
         "113",
         "95",
         "2228",
         "14.0",
         "T-1690121"
        ],
        [
         "32",
         "25.0",
         "4",
         "98",
         null,
         "2046",
         "19.0",
         "F-1690132"
        ],
        [
         "33",
         "19.0",
         "6",
         "232",
         "100",
         "2634",
         "13.0",
         "A-1690143"
        ],
        [
         "34",
         "16.0",
         "6",
         "225",
         "105",
         "3439",
         "15.5",
         "P-1690154"
        ],
        [
         "35",
         "17.0",
         "6",
         "250",
         "100",
         "3329",
         "15.5",
         "C-1690165"
        ],
        [
         "36",
         "19.0",
         "6",
         "250",
         "88",
         "3302",
         "15.5",
         "F-1690176"
        ],
        [
         "37",
         "18.0",
         "6",
         "232",
         "100",
         "3288",
         "15.5",
         "A-1690187"
        ],
        [
         "38",
         "14.0",
         "8",
         "350",
         "165",
         "4209",
         "12.0",
         "C-1690198"
        ],
        [
         "39",
         "14.0",
         "8",
         "400",
         "175",
         "4464",
         "11.5",
         "P-1690209"
        ],
        [
         "40",
         "14.0",
         "8",
         "351",
         "153",
         "4154",
         "13.5",
         "F-1690220"
        ],
        [
         "41",
         "14.0",
         "8",
         "318",
         "150",
         "4096",
         "13.0",
         "P-1690231"
        ],
        [
         "42",
         "12.0",
         "8",
         "383",
         "180",
         "4955",
         "11.5",
         "D-1690242"
        ],
        [
         "43",
         "13.0",
         "8",
         "400",
         "170",
         "4746",
         "12.0",
         "F-1690253"
        ],
        [
         "44",
         "13.0",
         "8",
         "400",
         "175",
         "5140",
         "12.0",
         "P-1690264"
        ],
        [
         "45",
         "18.0",
         "6",
         "258",
         "110",
         "2962",
         "13.5",
         "A-1690275"
        ],
        [
         "46",
         "22.0",
         "4",
         "140",
         "72",
         "2408",
         "19.0",
         "C-1690286"
        ],
        [
         "47",
         "19.0",
         "6",
         "250",
         "100",
         "3282",
         "15.0",
         "P-1690297"
        ],
        [
         "48",
         "18.0",
         "6",
         "250",
         "88",
         "3139",
         "14.5",
         "F-1690308"
        ],
        [
         "49",
         "23.0",
         "4",
         "122",
         "86",
         "2220",
         "14.0",
         "M-1690319"
        ]
       ],
       "shape": {
        "columns": 7,
        "rows": 398
       }
      },
      "text/html": [
       "<div>\n",
       "<style scoped>\n",
       "    .dataframe tbody tr th:only-of-type {\n",
       "        vertical-align: middle;\n",
       "    }\n",
       "\n",
       "    .dataframe tbody tr th {\n",
       "        vertical-align: top;\n",
       "    }\n",
       "\n",
       "    .dataframe thead th {\n",
       "        text-align: right;\n",
       "    }\n",
       "</style>\n",
       "<table border=\"1\" class=\"dataframe\">\n",
       "  <thead>\n",
       "    <tr style=\"text-align: right;\">\n",
       "      <th></th>\n",
       "      <th>mpg</th>\n",
       "      <th>cylinders</th>\n",
       "      <th>displacement</th>\n",
       "      <th>horsepower</th>\n",
       "      <th>weight</th>\n",
       "      <th>acceleration</th>\n",
       "      <th>vehicle_id</th>\n",
       "    </tr>\n",
       "  </thead>\n",
       "  <tbody>\n",
       "    <tr>\n",
       "      <th>0</th>\n",
       "      <td>18.0</td>\n",
       "      <td>8</td>\n",
       "      <td>307</td>\n",
       "      <td>130</td>\n",
       "      <td>3504</td>\n",
       "      <td>12.0</td>\n",
       "      <td>C-1689780</td>\n",
       "    </tr>\n",
       "    <tr>\n",
       "      <th>1</th>\n",
       "      <td>15.0</td>\n",
       "      <td>8</td>\n",
       "      <td>350</td>\n",
       "      <td>165</td>\n",
       "      <td>3693</td>\n",
       "      <td>11.5</td>\n",
       "      <td>B-1689791</td>\n",
       "    </tr>\n",
       "    <tr>\n",
       "      <th>2</th>\n",
       "      <td>18.0</td>\n",
       "      <td>8</td>\n",
       "      <td>318</td>\n",
       "      <td>150</td>\n",
       "      <td>3436</td>\n",
       "      <td>11.0</td>\n",
       "      <td>P-1689802</td>\n",
       "    </tr>\n",
       "    <tr>\n",
       "      <th>3</th>\n",
       "      <td>16.0</td>\n",
       "      <td>8</td>\n",
       "      <td>304</td>\n",
       "      <td>150</td>\n",
       "      <td>3433</td>\n",
       "      <td>12.0</td>\n",
       "      <td>A-1689813</td>\n",
       "    </tr>\n",
       "    <tr>\n",
       "      <th>4</th>\n",
       "      <td>17.0</td>\n",
       "      <td>8</td>\n",
       "      <td>302</td>\n",
       "      <td>140</td>\n",
       "      <td>3449</td>\n",
       "      <td>10.5</td>\n",
       "      <td>F-1689824</td>\n",
       "    </tr>\n",
       "    <tr>\n",
       "      <th>...</th>\n",
       "      <td>...</td>\n",
       "      <td>...</td>\n",
       "      <td>...</td>\n",
       "      <td>...</td>\n",
       "      <td>...</td>\n",
       "      <td>...</td>\n",
       "      <td>...</td>\n",
       "    </tr>\n",
       "    <tr>\n",
       "      <th>393</th>\n",
       "      <td>27.0</td>\n",
       "      <td>4</td>\n",
       "      <td>140</td>\n",
       "      <td>86</td>\n",
       "      <td>2790</td>\n",
       "      <td>15.6</td>\n",
       "      <td>F-1694103</td>\n",
       "    </tr>\n",
       "    <tr>\n",
       "      <th>394</th>\n",
       "      <td>44.0</td>\n",
       "      <td>4</td>\n",
       "      <td>97</td>\n",
       "      <td>52</td>\n",
       "      <td>2130</td>\n",
       "      <td>24.6</td>\n",
       "      <td>V-1694114</td>\n",
       "    </tr>\n",
       "    <tr>\n",
       "      <th>395</th>\n",
       "      <td>32.0</td>\n",
       "      <td>4</td>\n",
       "      <td>135</td>\n",
       "      <td>84</td>\n",
       "      <td>2295</td>\n",
       "      <td>11.6</td>\n",
       "      <td>D-1694125</td>\n",
       "    </tr>\n",
       "    <tr>\n",
       "      <th>396</th>\n",
       "      <td>28.0</td>\n",
       "      <td>4</td>\n",
       "      <td>120</td>\n",
       "      <td>79</td>\n",
       "      <td>2625</td>\n",
       "      <td>18.6</td>\n",
       "      <td>F-1694136</td>\n",
       "    </tr>\n",
       "    <tr>\n",
       "      <th>397</th>\n",
       "      <td>31.0</td>\n",
       "      <td>4</td>\n",
       "      <td>119</td>\n",
       "      <td>82</td>\n",
       "      <td>2720</td>\n",
       "      <td>19.4</td>\n",
       "      <td>C-1694147</td>\n",
       "    </tr>\n",
       "  </tbody>\n",
       "</table>\n",
       "<p>398 rows × 7 columns</p>\n",
       "</div>"
      ],
      "text/plain": [
       "      mpg  cylinders  displacement horsepower  weight  acceleration vehicle_id\n",
       "0    18.0          8           307        130    3504          12.0  C-1689780\n",
       "1    15.0          8           350        165    3693          11.5  B-1689791\n",
       "2    18.0          8           318        150    3436          11.0  P-1689802\n",
       "3    16.0          8           304        150    3433          12.0  A-1689813\n",
       "4    17.0          8           302        140    3449          10.5  F-1689824\n",
       "..    ...        ...           ...        ...     ...           ...        ...\n",
       "393  27.0          4           140         86    2790          15.6  F-1694103\n",
       "394  44.0          4            97         52    2130          24.6  V-1694114\n",
       "395  32.0          4           135         84    2295          11.6  D-1694125\n",
       "396  28.0          4           120         79    2625          18.6  F-1694136\n",
       "397  31.0          4           119         82    2720          19.4  C-1694147\n",
       "\n",
       "[398 rows x 7 columns]"
      ]
     },
     "execution_count": 8,
     "metadata": {},
     "output_type": "execute_result"
    }
   ],
   "source": [
    "carfeatures"
   ]
  },
  {
   "cell_type": "markdown",
   "id": "dc44b3e9",
   "metadata": {},
   "source": [
    "## <span style=\"color:red\"> III. Extract column/variable names </span>\n",
    "\n",
    "<font size = \"4\">\n",
    "\n",
    "In Homework #2, you manually created a list of column names. Pandas can do that for you"
   ]
  },
  {
   "cell_type": "code",
   "execution_count": 9,
   "id": "d63088bb",
   "metadata": {},
   "outputs": [
    {
     "name": "stdout",
     "output_type": "stream",
     "text": [
      "['mpg' 'cylinders' 'displacement' 'horsepower' 'weight' 'acceleration'\n",
      " 'vehicle_id']\n",
      "<class 'numpy.ndarray'>\n",
      "<class 'str'>\n"
     ]
    }
   ],
   "source": [
    "car_colnames = carfeatures.columns.values\n",
    "print(car_colnames)\n",
    "\n",
    "# Is this a list? A Numpy array? Are you checking what objects are, or just coding \n",
    "# with reckless abandon?\n",
    "\n",
    "print(type(car_colnames))\n",
    "print(type(car_colnames[0]))"
   ]
  },
  {
   "cell_type": "code",
   "execution_count": 10,
   "id": "c9d55655",
   "metadata": {},
   "outputs": [
    {
     "name": "stdout",
     "output_type": "stream",
     "text": [
      "0      18.0\n",
      "1      15.0\n",
      "2      18.0\n",
      "3      16.0\n",
      "4      17.0\n",
      "       ... \n",
      "393    27.0\n",
      "394    44.0\n",
      "395    32.0\n",
      "396    28.0\n",
      "397    31.0\n",
      "Name: mpg, Length: 398, dtype: float64\n",
      "0      18.0\n",
      "1      15.0\n",
      "2      18.0\n",
      "3      16.0\n",
      "4      17.0\n",
      "       ... \n",
      "393    27.0\n",
      "394    44.0\n",
      "395    32.0\n",
      "396    28.0\n",
      "397    31.0\n",
      "Name: mpg, Length: 398, dtype: float64\n"
     ]
    }
   ],
   "source": [
    "# Just like HW #2, we can use car_colnames to grab columns from the dataset\n",
    "\n",
    "# manually..\n",
    "mpg = carfeatures[\"mpg\"]\n",
    "\n",
    "# using car_colnames\n",
    "mpg_alt = carfeatures[car_colnames[0]]\n",
    "print(mpg)\n",
    "print(mpg_alt)"
   ]
  },
  {
   "cell_type": "code",
   "execution_count": 11,
   "id": "95df9aa5",
   "metadata": {},
   "outputs": [
    {
     "name": "stdout",
     "output_type": "stream",
     "text": [
      "<class 'pandas.core.series.Series'>\n"
     ]
    }
   ],
   "source": [
    "# Did you check the TYPE ?!\n",
    "print(type(mpg))"
   ]
  },
  {
   "cell_type": "markdown",
   "id": "8162d7d5",
   "metadata": {},
   "source": [
    "<font size = \"4\">\n",
    "\n",
    "Grab multiple variables"
   ]
  },
  {
   "cell_type": "code",
   "execution_count": 12,
   "id": "be441197",
   "metadata": {},
   "outputs": [
    {
     "name": "stdout",
     "output_type": "stream",
     "text": [
      "<class 'pandas.core.frame.DataFrame'>\n",
      "     weight   mpg\n",
      "0      3504  18.0\n",
      "1      3693  15.0\n",
      "2      3436  18.0\n",
      "3      3433  16.0\n",
      "4      3449  17.0\n",
      "..      ...   ...\n",
      "393    2790  27.0\n",
      "394    2130  44.0\n",
      "395    2295  32.0\n",
      "396    2625  28.0\n",
      "397    2720  31.0\n",
      "\n",
      "[398 rows x 2 columns]\n"
     ]
    }
   ],
   "source": [
    "list_subsetcols = [\"weight\",\"mpg\"]\n",
    "subcols_carfeatures = carfeatures[list_subsetcols]\n",
    "\n",
    "print(type(subcols_carfeatures))\n",
    "print(subcols_carfeatures)\n",
    "\n"
   ]
  },
  {
   "cell_type": "code",
   "execution_count": 13,
   "id": "d10fdf51",
   "metadata": {},
   "outputs": [
    {
     "name": "stdout",
     "output_type": "stream",
     "text": [
      "     weight   mpg\n",
      "0      3504  18.0\n",
      "1      3693  15.0\n",
      "2      3436  18.0\n",
      "3      3433  16.0\n",
      "4      3449  17.0\n",
      "..      ...   ...\n",
      "393    2790  27.0\n",
      "394    2130  44.0\n",
      "395    2295  32.0\n",
      "396    2625  28.0\n",
      "397    2720  31.0\n",
      "\n",
      "[398 rows x 2 columns]\n"
     ]
    }
   ],
   "source": [
    "\n",
    "# list_subsetcols = [\"weight\",\"mpg\"] # created a variable list_subsetcols...\n",
    "# subcols_carfeatures = carfeatures[list_subsetcols] # ...just to place it within the brackets\n",
    "\n",
    "# skip the intermediate variable\n",
    "subcols_carfeatures = carfeatures[[\"weight\", \"mpg\"]]\n",
    "print(subcols_carfeatures)\n"
   ]
  },
  {
   "cell_type": "code",
   "execution_count": 14,
   "id": "d95a16bf",
   "metadata": {},
   "outputs": [
    {
     "name": "stdout",
     "output_type": "stream",
     "text": [
      "weight\n",
      "mpg\n"
     ]
    }
   ],
   "source": [
    "print(car_colnames[4])\n",
    "print(car_colnames[0])"
   ]
  },
  {
   "cell_type": "code",
   "execution_count": null,
   "id": "966a5b5e",
   "metadata": {},
   "outputs": [
    {
     "name": "stdout",
     "output_type": "stream",
     "text": [
      "     weight   mpg\n",
      "0      3504  18.0\n",
      "1      3693  15.0\n",
      "2      3436  18.0\n",
      "3      3433  16.0\n",
      "4      3449  17.0\n",
      "..      ...   ...\n",
      "393    2790  27.0\n",
      "394    2130  44.0\n",
      "395    2295  32.0\n",
      "396    2625  28.0\n",
      "397    2720  31.0\n",
      "\n",
      "[398 rows x 2 columns]\n"
     ]
    }
   ],
   "source": [
    "# Use car_colnames plus the indices 4, 0\n",
    "list_subsetcols = [car_colnames[4], car_colnames[0]]\n",
    "subcols_carfeatures = carfeatures[list_subsetcols]\n",
    "\n",
    "# OR\n",
    "\n",
    "subcols_carfeatures = carfeatures[[car_colnames[4], car_colnames[0]]]\n",
    "\n",
    "# number of brackets matter\n",
    "\n",
    "print(subcols_carfeatures)\n"
   ]
  },
  {
   "cell_type": "markdown",
   "id": "6696efa1",
   "metadata": {},
   "source": [
    "<font size = \"4\">\n",
    "\n",
    "**Exercise**: Extract the weight and acceleration variables\n",
    "\n",
    "**Exercise**: Extract the displacement, horsepower, and vehicle_id variables"
   ]
  },
  {
   "cell_type": "code",
   "execution_count": null,
   "id": "651f40b9",
   "metadata": {},
   "outputs": [],
   "source": [
    "# try yourself (will add the solution later)\n",
    "\n"
   ]
  },
  {
   "cell_type": "markdown",
   "id": "9aeb5142",
   "metadata": {},
   "source": [
    "## <span style=\"color:red\"> IV. Sort by column/variable </span>"
   ]
  },
  {
   "cell_type": "code",
   "execution_count": 19,
   "id": "abb5913b",
   "metadata": {},
   "outputs": [
    {
     "name": "stdout",
     "output_type": "stream",
     "text": [
      "Help on method sort_values in module pandas.core.frame:\n",
      "\n",
      "sort_values(\n",
      "    by: 'IndexLabel',\n",
      "    *,\n",
      "    axis: 'Axis' = 0,\n",
      "    ascending: 'bool | list[bool] | tuple[bool, ...]' = True,\n",
      "    inplace: 'bool' = False,\n",
      "    kind: 'SortKind' = 'quicksort',\n",
      "    na_position: 'str' = 'last',\n",
      "    ignore_index: 'bool' = False,\n",
      "    key: 'ValueKeyFunc | None' = None\n",
      ") -> 'DataFrame | None' method of pandas.core.frame.DataFrame instance\n",
      "    Sort by the values along either axis.\n",
      "\n",
      "    Parameters\n",
      "    ----------\n",
      "    by : str or list of str\n",
      "        Name or list of names to sort by.\n",
      "\n",
      "        - if `axis` is 0 or `'index'` then `by` may contain index\n",
      "          levels and/or column labels.\n",
      "        - if `axis` is 1 or `'columns'` then `by` may contain column\n",
      "          levels and/or index labels.\n",
      "    axis : \"{0 or 'index', 1 or 'columns'}\", default 0\n",
      "         Axis to be sorted.\n",
      "    ascending : bool or list of bool, default True\n",
      "         Sort ascending vs. descending. Specify list for multiple sort\n",
      "         orders.  If this is a list of bools, must match the length of\n",
      "         the by.\n",
      "    inplace : bool, default False\n",
      "         If True, perform operation in-place.\n",
      "    kind : {'quicksort', 'mergesort', 'heapsort', 'stable'}, default 'quicksort'\n",
      "         Choice of sorting algorithm. See also :func:`numpy.sort` for more\n",
      "         information. `mergesort` and `stable` are the only stable algorithms. For\n",
      "         DataFrames, this option is only applied when sorting on a single\n",
      "         column or label.\n",
      "    na_position : {'first', 'last'}, default 'last'\n",
      "         Puts NaNs at the beginning if `first`; `last` puts NaNs at the\n",
      "         end.\n",
      "    ignore_index : bool, default False\n",
      "         If True, the resulting axis will be labeled 0, 1, …, n - 1.\n",
      "    key : callable, optional\n",
      "        Apply the key function to the values\n",
      "        before sorting. This is similar to the `key` argument in the\n",
      "        builtin :meth:`sorted` function, with the notable difference that\n",
      "        this `key` function should be *vectorized*. It should expect a\n",
      "        ``Series`` and return a Series with the same shape as the input.\n",
      "        It will be applied to each column in `by` independently.\n",
      "\n",
      "    Returns\n",
      "    -------\n",
      "    DataFrame or None\n",
      "        DataFrame with sorted values or None if ``inplace=True``.\n",
      "\n",
      "    See Also\n",
      "    --------\n",
      "    DataFrame.sort_index : Sort a DataFrame by the index.\n",
      "    Series.sort_values : Similar method for a Series.\n",
      "\n",
      "    Examples\n",
      "    --------\n",
      "    >>> df = pd.DataFrame({\n",
      "    ...     'col1': ['A', 'A', 'B', np.nan, 'D', 'C'],\n",
      "    ...     'col2': [2, 1, 9, 8, 7, 4],\n",
      "    ...     'col3': [0, 1, 9, 4, 2, 3],\n",
      "    ...     'col4': ['a', 'B', 'c', 'D', 'e', 'F']\n",
      "    ... })\n",
      "    >>> df\n",
      "      col1  col2  col3 col4\n",
      "    0    A     2     0    a\n",
      "    1    A     1     1    B\n",
      "    2    B     9     9    c\n",
      "    3  NaN     8     4    D\n",
      "    4    D     7     2    e\n",
      "    5    C     4     3    F\n",
      "\n",
      "    Sort by col1\n",
      "\n",
      "    >>> df.sort_values(by=['col1'])\n",
      "      col1  col2  col3 col4\n",
      "    0    A     2     0    a\n",
      "    1    A     1     1    B\n",
      "    2    B     9     9    c\n",
      "    5    C     4     3    F\n",
      "    4    D     7     2    e\n",
      "    3  NaN     8     4    D\n",
      "\n",
      "    Sort by multiple columns\n",
      "\n",
      "    >>> df.sort_values(by=['col1', 'col2'])\n",
      "      col1  col2  col3 col4\n",
      "    1    A     1     1    B\n",
      "    0    A     2     0    a\n",
      "    2    B     9     9    c\n",
      "    5    C     4     3    F\n",
      "    4    D     7     2    e\n",
      "    3  NaN     8     4    D\n",
      "\n",
      "    Sort Descending\n",
      "\n",
      "    >>> df.sort_values(by='col1', ascending=False)\n",
      "      col1  col2  col3 col4\n",
      "    4    D     7     2    e\n",
      "    5    C     4     3    F\n",
      "    2    B     9     9    c\n",
      "    0    A     2     0    a\n",
      "    1    A     1     1    B\n",
      "    3  NaN     8     4    D\n",
      "\n",
      "    Putting NAs first\n",
      "\n",
      "    >>> df.sort_values(by='col1', ascending=False, na_position='first')\n",
      "      col1  col2  col3 col4\n",
      "    3  NaN     8     4    D\n",
      "    4    D     7     2    e\n",
      "    5    C     4     3    F\n",
      "    2    B     9     9    c\n",
      "    0    A     2     0    a\n",
      "    1    A     1     1    B\n",
      "\n",
      "    Sorting with a key function\n",
      "\n",
      "    >>> df.sort_values(by='col4', key=lambda col: col.str.lower())\n",
      "       col1  col2  col3 col4\n",
      "    0    A     2     0    a\n",
      "    1    A     1     1    B\n",
      "    2    B     9     9    c\n",
      "    3  NaN     8     4    D\n",
      "    4    D     7     2    e\n",
      "    5    C     4     3    F\n",
      "\n",
      "    Natural sort with the key argument,\n",
      "    using the `natsort <https://github.com/SethMMorton/natsort>` package.\n",
      "\n",
      "    >>> df = pd.DataFrame({\n",
      "    ...    \"time\": ['0hr', '128hr', '72hr', '48hr', '96hr'],\n",
      "    ...    \"value\": [10, 20, 30, 40, 50]\n",
      "    ... })\n",
      "    >>> df\n",
      "        time  value\n",
      "    0    0hr     10\n",
      "    1  128hr     20\n",
      "    2   72hr     30\n",
      "    3   48hr     40\n",
      "    4   96hr     50\n",
      "    >>> from natsort import index_natsorted\n",
      "    >>> df.sort_values(\n",
      "    ...     by=\"time\",\n",
      "    ...     key=lambda x: np.argsort(index_natsorted(df[\"time\"]))\n",
      "    ... )\n",
      "        time  value\n",
      "    0    0hr     10\n",
      "    3   48hr     40\n",
      "    2   72hr     30\n",
      "    4   96hr     50\n",
      "    1  128hr     20\n",
      "\n"
     ]
    }
   ],
   "source": [
    "help(carfeatures.sort_values)"
   ]
  },
  {
   "cell_type": "code",
   "execution_count": 20,
   "id": "2d5ee73f",
   "metadata": {},
   "outputs": [
    {
     "name": "stdout",
     "output_type": "stream",
     "text": [
      "      mpg  cylinders  displacement horsepower  weight  acceleration vehicle_id\n",
      "28    9.0          8           304        193    4732          18.5  H-1690088\n",
      "25   10.0          8           360        215    4615          14.0  F-1690055\n",
      "26   10.0          8           307        200    4376          15.0  C-1690066\n",
      "103  11.0          8           400        150    4997          14.0  C-1690913\n",
      "124  11.0          8           350        180    3664          11.0  O-1691144\n",
      "..    ...        ...           ...        ...     ...           ...        ...\n",
      "326  43.4          4            90         48    2335          23.7  V-1693366\n",
      "394  44.0          4            97         52    2130          24.6  V-1694114\n",
      "325  44.3          4            90         48    2085          21.7  V-1693355\n",
      "329  44.6          4            91         67    1850          13.8  H-1693399\n",
      "322  46.6          4            86         65    2110          17.9  M-1693322\n",
      "\n",
      "[398 rows x 7 columns]\n"
     ]
    }
   ],
   "source": [
    "# sort the data-set by one of the variables\n",
    "carsorted = carfeatures.sort_values(by = \"mpg\")\n",
    "print(carsorted)"
   ]
  },
  {
   "cell_type": "code",
   "execution_count": 21,
   "id": "7dcc8513",
   "metadata": {},
   "outputs": [
    {
     "name": "stdout",
     "output_type": "stream",
     "text": [
      "      mpg  cylinders  displacement horsepower  weight  acceleration vehicle_id\n",
      "322  46.6          4            86         65    2110          17.9  M-1693322\n",
      "329  44.6          4            91         67    1850          13.8  H-1693399\n",
      "325  44.3          4            90         48    2085          21.7  V-1693355\n",
      "394  44.0          4            97         52    2130          24.6  V-1694114\n",
      "326  43.4          4            90         48    2335          23.7  V-1693366\n",
      "..    ...        ...           ...        ...     ...           ...        ...\n",
      "103  11.0          8           400        150    4997          14.0  C-1690913\n",
      "67   11.0          8           429        208    4633          11.0  M-1690517\n",
      "25   10.0          8           360        215    4615          14.0  F-1690055\n",
      "26   10.0          8           307        200    4376          15.0  C-1690066\n",
      "28    9.0          8           304        193    4732          18.5  H-1690088\n",
      "\n",
      "[398 rows x 7 columns]\n"
     ]
    }
   ],
   "source": [
    "# above we went from lowest mileage to highest mileage (ascending order)\n",
    "# \n",
    "# To reverse the order, pass in the argument ascending = False \n",
    "\n",
    "carsorted = carfeatures.sort_values(by = \"mpg\", ascending = False)\n",
    "print(carsorted)"
   ]
  },
  {
   "cell_type": "markdown",
   "id": "b21170b5",
   "metadata": {},
   "source": [
    "## <span style=\"color:red\"> V. Subsetting by row/column position </span>\n",
    "\n",
    "<font size = \"4\">\n",
    "\n",
    "Each DataFrame has an \"iloc\" method. This stands for \"integer-location based indexing\""
   ]
  },
  {
   "cell_type": "code",
   "execution_count": 22,
   "id": "c65af3b2",
   "metadata": {},
   "outputs": [
    {
     "name": "stdout",
     "output_type": "stream",
     "text": [
      "      mpg  cylinders  displacement horsepower  weight  acceleration vehicle_id\n",
      "0    18.0          8           307        130    3504          12.0  C-1689780\n",
      "1    15.0          8           350        165    3693          11.5  B-1689791\n",
      "2    18.0          8           318        150    3436          11.0  P-1689802\n",
      "3    16.0          8           304        150    3433          12.0  A-1689813\n",
      "4    17.0          8           302        140    3449          10.5  F-1689824\n",
      "..    ...        ...           ...        ...     ...           ...        ...\n",
      "393  27.0          4           140         86    2790          15.6  F-1694103\n",
      "394  44.0          4            97         52    2130          24.6  V-1694114\n",
      "395  32.0          4           135         84    2295          11.6  D-1694125\n",
      "396  28.0          4           120         79    2625          18.6  F-1694136\n",
      "397  31.0          4           119         82    2720          19.4  C-1694147\n",
      "\n",
      "[398 rows x 7 columns]\n"
     ]
    }
   ],
   "source": [
    "print(carfeatures)"
   ]
  },
  {
   "cell_type": "code",
   "execution_count": 23,
   "id": "c293cef3",
   "metadata": {},
   "outputs": [
    {
     "name": "stdout",
     "output_type": "stream",
     "text": [
      "18.0\n"
     ]
    }
   ],
   "source": [
    "# Above, see that car 0 has 18.0 mpg\n",
    "# The value \"18.0\" is in the first row, and corresponds to the first column\n",
    "# (the index column on the left is NOT considered a column/variable)\n",
    "\n",
    "# Since Python starts counting from zero, this is in row 0 column 0\n",
    "\n",
    "car0_mpg = carfeatures.iloc[0,0]\n",
    "print(car0_mpg)"
   ]
  },
  {
   "cell_type": "code",
   "execution_count": 24,
   "id": "66343891",
   "metadata": {},
   "outputs": [
    {
     "name": "stdout",
     "output_type": "stream",
     "text": [
      "3433\n"
     ]
    }
   ],
   "source": [
    "# Above, see that car 3 has weight of 3433\n",
    "# Counting from zero, the value \"3433\" is in\n",
    "# row 3, column\n",
    "# The value \"3433\" is in row 3, column 4\n",
    "\n",
    "car3_weight = carfeatures.iloc[3, 4]\n",
    "print(car3_weight)"
   ]
  },
  {
   "cell_type": "code",
   "execution_count": 25,
   "id": "b8c4615f",
   "metadata": {},
   "outputs": [
    {
     "name": "stdout",
     "output_type": "stream",
     "text": [
      "mpg                  18.0\n",
      "cylinders               8\n",
      "displacement          307\n",
      "horsepower            130\n",
      "weight               3504\n",
      "acceleration         12.0\n",
      "vehicle_id      C-1689780\n",
      "Name: 0, dtype: object\n",
      "<class 'pandas.core.series.Series'>\n"
     ]
    }
   ],
   "source": [
    "# Let's grab ALL features of car 0 (mpg, cylinders, displacement, ..., vehicle_id)\n",
    "\n",
    "# So we want all the entries along row zero. \n",
    "# Use a \":\" (colon) for the column index to grab ALL the columns\n",
    "\n",
    "car0_features = carfeatures.iloc[0,:]\n",
    "print(car0_features)\n",
    "print(type(car0_features))"
   ]
  },
  {
   "cell_type": "code",
   "execution_count": 26,
   "id": "b61f0d60",
   "metadata": {},
   "outputs": [
    {
     "name": "stdout",
     "output_type": "stream",
     "text": [
      "mpg                  16.0\n",
      "cylinders               8\n",
      "displacement          304\n",
      "horsepower            150\n",
      "weight               3433\n",
      "acceleration         12.0\n",
      "vehicle_id      A-1689813\n",
      "Name: 3, dtype: object\n"
     ]
    }
   ],
   "source": [
    "# Grab all columns of car 3\n",
    "car3_features = carfeatures.iloc[3,:]\n",
    "print(car3_features)"
   ]
  },
  {
   "cell_type": "code",
   "execution_count": 27,
   "id": "cdb9cc41",
   "metadata": {},
   "outputs": [
    {
     "name": "stdout",
     "output_type": "stream",
     "text": [
      "      mpg  cylinders  displacement horsepower  weight  acceleration vehicle_id\n",
      "0    18.0          8           307        130    3504          12.0  C-1689780\n",
      "1    15.0          8           350        165    3693          11.5  B-1689791\n",
      "2    18.0          8           318        150    3436          11.0  P-1689802\n",
      "3    16.0          8           304        150    3433          12.0  A-1689813\n",
      "4    17.0          8           302        140    3449          10.5  F-1689824\n",
      "..    ...        ...           ...        ...     ...           ...        ...\n",
      "393  27.0          4           140         86    2790          15.6  F-1694103\n",
      "394  44.0          4            97         52    2130          24.6  V-1694114\n",
      "395  32.0          4           135         84    2295          11.6  D-1694125\n",
      "396  28.0          4           120         79    2625          18.6  F-1694136\n",
      "397  31.0          4           119         82    2720          19.4  C-1694147\n",
      "\n",
      "[398 rows x 7 columns]\n"
     ]
    }
   ],
   "source": [
    "print(carfeatures)"
   ]
  },
  {
   "cell_type": "code",
   "execution_count": 28,
   "id": "23f3a2a1",
   "metadata": {},
   "outputs": [
    {
     "name": "stdout",
     "output_type": "stream",
     "text": [
      "0      18.0\n",
      "1      15.0\n",
      "2      18.0\n",
      "3      16.0\n",
      "4      17.0\n",
      "       ... \n",
      "393    27.0\n",
      "394    44.0\n",
      "395    32.0\n",
      "396    28.0\n",
      "397    31.0\n",
      "Name: mpg, Length: 398, dtype: float64\n"
     ]
    }
   ],
   "source": [
    "# Column 0 corresponds to \"mpg\" (the index column on the far left doesn't count)\n",
    "\n",
    "# Grab the entire column 0, which means grabbing ALL the rows\n",
    "\n",
    "car_mpg = carfeatures.iloc[:, 0]\n",
    "print(car_mpg)\n"
   ]
  },
  {
   "cell_type": "code",
   "execution_count": 29,
   "id": "b989a216",
   "metadata": {},
   "outputs": [
    {
     "data": {
      "application/vnd.microsoft.datawrangler.viewer.v0+json": {
       "columns": [
        {
         "name": "index",
         "rawType": "int64",
         "type": "integer"
        },
        {
         "name": "horsepower",
         "rawType": "object",
         "type": "unknown"
        }
       ],
       "ref": "4c5241fb-be1f-45e7-a4d1-117305e25d2a",
       "rows": [
        [
         "0",
         "130"
        ],
        [
         "1",
         "165"
        ],
        [
         "2",
         "150"
        ],
        [
         "3",
         "150"
        ],
        [
         "4",
         "140"
        ],
        [
         "5",
         "198"
        ],
        [
         "6",
         "220"
        ],
        [
         "7",
         "215"
        ],
        [
         "8",
         "225"
        ],
        [
         "9",
         "190"
        ],
        [
         "10",
         "170"
        ],
        [
         "11",
         "160"
        ],
        [
         "12",
         "150"
        ],
        [
         "13",
         "225"
        ],
        [
         "14",
         "95"
        ],
        [
         "15",
         "95"
        ],
        [
         "16",
         "97"
        ],
        [
         "17",
         "85"
        ],
        [
         "18",
         "88"
        ],
        [
         "19",
         "46"
        ],
        [
         "20",
         "87"
        ],
        [
         "21",
         "90"
        ],
        [
         "22",
         "95"
        ],
        [
         "23",
         "113"
        ],
        [
         "24",
         "90"
        ],
        [
         "25",
         "215"
        ],
        [
         "26",
         "200"
        ],
        [
         "27",
         "210"
        ],
        [
         "28",
         "193"
        ],
        [
         "29",
         "88"
        ],
        [
         "30",
         "90"
        ],
        [
         "31",
         "95"
        ],
        [
         "32",
         null
        ],
        [
         "33",
         "100"
        ],
        [
         "34",
         "105"
        ],
        [
         "35",
         "100"
        ],
        [
         "36",
         "88"
        ],
        [
         "37",
         "100"
        ],
        [
         "38",
         "165"
        ],
        [
         "39",
         "175"
        ],
        [
         "40",
         "153"
        ],
        [
         "41",
         "150"
        ],
        [
         "42",
         "180"
        ],
        [
         "43",
         "170"
        ],
        [
         "44",
         "175"
        ],
        [
         "45",
         "110"
        ],
        [
         "46",
         "72"
        ],
        [
         "47",
         "100"
        ],
        [
         "48",
         "88"
        ],
        [
         "49",
         "86"
        ]
       ],
       "shape": {
        "columns": 1,
        "rows": 398
       }
      },
      "text/plain": [
       "0      130\n",
       "1      165\n",
       "2      150\n",
       "3      150\n",
       "4      140\n",
       "      ... \n",
       "393     86\n",
       "394     52\n",
       "395     84\n",
       "396     79\n",
       "397     82\n",
       "Name: horsepower, Length: 398, dtype: object"
      ]
     },
     "execution_count": 29,
     "metadata": {},
     "output_type": "execute_result"
    }
   ],
   "source": [
    "# horsepower is column 3\n",
    "# grab ALL rows of column 3\n",
    "\n",
    "car_horsepower = carfeatures.iloc[:, 3]\n",
    "car_horsepower"
   ]
  },
  {
   "cell_type": "code",
   "execution_count": 30,
   "id": "4ffaae12",
   "metadata": {},
   "outputs": [
    {
     "name": "stdout",
     "output_type": "stream",
     "text": [
      "      mpg  cylinders  displacement horsepower  weight  acceleration vehicle_id\n",
      "0    18.0          8           307        130    3504          12.0  C-1689780\n",
      "4    17.0          8           302        140    3449          10.5  F-1689824\n",
      "396  28.0          4           120         79    2625          18.6  F-1694136\n",
      "<class 'pandas.core.frame.DataFrame'>\n"
     ]
    }
   ],
   "source": [
    "# Grab all features for cars 0, 4, 396 (so rows 0, 4, 396)\n",
    "\n",
    "cargroup_features = carfeatures.iloc[ [0, 4, 396], : ]\n",
    "print(cargroup_features)\n",
    "print(type(cargroup_features))"
   ]
  },
  {
   "cell_type": "code",
   "execution_count": null,
   "id": "d848ea8a",
   "metadata": {},
   "outputs": [],
   "source": [
    "# Grab all features for cars 0, 4, 396 (so rows 0, 4, 396)\n",
    "\n",
    "group_rows = [0, 4, 396]\n",
    "cargroup_features = carfeatures.iloc[ group_rows, : ]\n",
    "print(cargroup_features)"
   ]
  },
  {
   "cell_type": "code",
   "execution_count": null,
   "id": "42840ee5",
   "metadata": {},
   "outputs": [],
   "source": [
    "# Grab mpg, weight, vehicle_id for ALL cars (columns 0, 4, 6)\n",
    "\n",
    "subfeatures = carfeatures.iloc[ : , [0, 4, 6] ]\n",
    "print(subfeatures)"
   ]
  },
  {
   "cell_type": "code",
   "execution_count": null,
   "id": "f1ae3e7a",
   "metadata": {},
   "outputs": [],
   "source": [
    "# Grab mpg, weight, vehicle_id for ALL cars (columns 0, 4, 6)\n",
    "\n",
    "sub_cols = [0, 4, 6]\n",
    "subfeatures = carfeatures.iloc[ : , sub_cols]\n",
    "print(subfeatures)"
   ]
  },
  {
   "cell_type": "code",
   "execution_count": null,
   "id": "d01204d7",
   "metadata": {},
   "outputs": [],
   "source": [
    "# Grab mpg, weight, vehicle_id for cars 0, 4, 396\n",
    "# So we need rows 0, 4, 396\n",
    "# and columns 0, 4, 6\n",
    "\n",
    "subdata = carfeatures.iloc[ [0, 4, 396], [0, 4, 6] ]\n",
    "print(subdata)"
   ]
  },
  {
   "cell_type": "markdown",
   "id": "26a7baed",
   "metadata": {},
   "source": [
    "### Subsetting blocks of rows"
   ]
  },
  {
   "cell_type": "code",
   "execution_count": null,
   "id": "6da88f3f",
   "metadata": {},
   "outputs": [],
   "source": [
    "# let's grab all features for the first 5 cars\n",
    "# (rows 0, 1, 2, 3, 4)\n",
    "\n",
    "first_5_cars = carfeatures.iloc[ :5, :]\n",
    "print(first_5_cars)"
   ]
  },
  {
   "cell_type": "code",
   "execution_count": null,
   "id": "31206be8",
   "metadata": {},
   "outputs": [],
   "source": [
    "# let's grab all features for the first 5 cars\n",
    "# (rows 0, 1, 2, 3, 4)\n",
    "\n",
    "# we start with row 0\n",
    "# the first row we *exclude* is row 5\n",
    "first_5_cars = carfeatures.iloc[ 0:5, :]\n",
    "print(first_5_cars)"
   ]
  },
  {
   "cell_type": "code",
   "execution_count": null,
   "id": "43c374c7",
   "metadata": {},
   "outputs": [],
   "source": [
    "# if we shift the indices by 1\n",
    "# (change 0:5 --> 1:6)\n",
    "# Then we will grab rows (1,2,3,4,5)\n",
    "\n",
    "cars_1_thru_5 = carfeatures.iloc[ 1:6, :]\n",
    "\n",
    "# we start with row 1\n",
    "# the first row we *exclude* is row 6\n",
    "\n",
    "print(cars_1_thru_5)"
   ]
  },
  {
   "cell_type": "markdown",
   "id": "00bc60d3",
   "metadata": {},
   "source": [
    "<font size = \"4\">\n",
    "\n",
    "Works similarly for blocks of columns, or blocks of both rows and columns\n",
    "\n",
    "**Exercise:** Extract the columns corresponding to displacement, horsepower, and weight for all cars using ``.iloc``. The column indices should be of the form ``start:stop`` for appropriate integers ``start`` and ``stop``\n",
    "\n",
    "**Exercise:** Extract the weight, acceleration, and vehicle_id information for cars 28, 29, 30, 31, 32 using \":\" for both row and column indices"
   ]
  },
  {
   "cell_type": "code",
   "execution_count": null,
   "id": "7656c759",
   "metadata": {},
   "outputs": [],
   "source": [
    "## your answer here\n",
    "\n",
    "\n"
   ]
  },
  {
   "cell_type": "markdown",
   "id": "bbe99918",
   "metadata": {},
   "source": [
    "<font size = \"4\">\n",
    "\n",
    "**Exercise:** Create a dataset ``car_ascendingweight`` which sorts the cars from lowest to highest weight. Then extract the subset of the data corresponding to the 5 cars with the lowest weight (all their features, not just their weight)"
   ]
  },
  {
   "cell_type": "code",
   "execution_count": null,
   "id": "30e6bfc9",
   "metadata": {},
   "outputs": [],
   "source": [
    "# your answer here\n",
    "\n"
   ]
  },
  {
   "cell_type": "markdown",
   "id": "ecf26480",
   "metadata": {},
   "source": [
    "## <span style=\"color:red\"> VI. Filtering Dataframes Based on Logical Expressions </span>"
   ]
  },
  {
   "cell_type": "markdown",
   "id": "27820c4a",
   "metadata": {},
   "source": [
    "<font size = \"4\">\n",
    "\n",
    "(i) Filtering using ```pandas.query()``` \n",
    "\n",
    "```python\n",
    "data.query(\"logical expression\")\n",
    "```"
   ]
  },
  {
   "cell_type": "code",
   "execution_count": null,
   "id": "0a496ad5",
   "metadata": {},
   "outputs": [],
   "source": [
    "high_mileagecars = carfeatures.query(\"mpg >= 25\")\n",
    "print(high_mileagecars)"
   ]
  },
  {
   "cell_type": "code",
   "execution_count": null,
   "id": "6df53e1a",
   "metadata": {},
   "outputs": [],
   "source": [
    "# Use \"and\" / \"or\" for logical operations on queries\n",
    "\n",
    "car_subset = carfeatures.query(\"(acceleration >= 12) and (acceleration < 18)\")\n",
    "print(car_subset)"
   ]
  },
  {
   "cell_type": "markdown",
   "id": "00dd275f",
   "metadata": {},
   "source": [
    "<font size = \"4\">\n",
    "\n",
    "(ii) Expressions with colnames + global variables (@)"
   ]
  },
  {
   "cell_type": "code",
   "execution_count": null,
   "id": "e0d35e3a",
   "metadata": {},
   "outputs": [],
   "source": [
    "# You can invoke global variables into the query by using @variablename\n",
    "# If you don't include @, then Python will try to look for a column with \n",
    "# that name.\n",
    "\n",
    "threshold = 25\n",
    "high_mileagecars = carfeatures.query(\"mpg >= @threshold\")\n",
    "print(high_mileagecars)"
   ]
  },
  {
   "cell_type": "code",
   "execution_count": null,
   "id": "e215e8ac",
   "metadata": {},
   "outputs": [],
   "source": [
    "lb = 12\n",
    "ub = 18\n",
    "\n",
    "car_subset = carfeatures.query(\"(acceleration >= @lb) and (acceleration < @ub)\")\n",
    "print(car_subset)"
   ]
  },
  {
   "cell_type": "markdown",
   "id": "75e8d70a",
   "metadata": {},
   "source": [
    "<font size = \"4\">\n",
    "\n",
    "(iii) Handling white space\n",
    "\n",
    "Ever wonder why I give folders names like \"Lecture_11\" instead of \"Lecture 11\"? Or name notebooks things like \"Lecture9.ipynb\" instead of \"Lecture 9.ipynb\"?\n",
    "\n",
    "Because handling white spaces on a computer can be annoying in certain situations, as we will see here:"
   ]
  },
  {
   "cell_type": "code",
   "execution_count": null,
   "id": "fef2a694",
   "metadata": {},
   "outputs": [],
   "source": [
    "# same data set, but column/variable 0 is \"miles per gallon\" instead of \"mpg\"\n",
    "\n",
    "new_dset = pd.read_csv(\"data_raw/subfolder1/annoying_subfolder/features-bad-spacing.csv\")\n",
    "print(new_dset)"
   ]
  },
  {
   "cell_type": "code",
   "execution_count": null,
   "id": "5fda8ad5",
   "metadata": {},
   "outputs": [],
   "source": [
    "data_threshold_horsepower = new_dset.query(\"miles per gallon >= 20\")"
   ]
  },
  {
   "cell_type": "markdown",
   "id": "25df8f1d",
   "metadata": {},
   "source": [
    "<font size = \"4\">\n",
    "\n",
    "Pretty scary looking error message...basically, it doesn't like the space (variable names can't have spaces in Python)\n",
    "\n",
    "We've seen the double quote (\") and the single quote (')\n",
    "\n",
    "To the left of your 1 key is the backtick/grave accent (`). Need to use this"
   ]
  },
  {
   "cell_type": "code",
   "execution_count": null,
   "id": "829d6141",
   "metadata": {},
   "outputs": [],
   "source": [
    "# next line causes error\n",
    "# data_threshold_horsepower = new_dset.query(\"miles per gallon >= 20\")\n",
    "\n",
    "# this next line is fine\n",
    "data_threshold_horsepower = new_dset.query(\"`miles per gallon` >= 20\")\n",
    "print(data_threshold_horsepower)"
   ]
  },
  {
   "cell_type": "markdown",
   "id": "f1deaf4b",
   "metadata": {},
   "source": [
    "<font size = \"4\">\n",
    "\n",
    "**Exercise:** Subset the data, gathering all cars with exactly 8 cylinders and mpg $\\ge$ 25.\n"
   ]
  },
  {
   "cell_type": "code",
   "execution_count": null,
   "id": "6ad20a1d",
   "metadata": {},
   "outputs": [],
   "source": [
    "# Your solution here\n",
    "\n",
    "\n"
   ]
  },
  {
   "cell_type": "markdown",
   "id": "d46a3d21",
   "metadata": {},
   "source": [
    "## <span style=\"color:red\"> VII. Application: Visualizing Subsets of the Data </span>\n",
    "\n",
    "<font size = \"4\">\n",
    "\n",
    "List of unique categories"
   ]
  },
  {
   "cell_type": "code",
   "execution_count": null,
   "id": "427b4712",
   "metadata": {},
   "outputs": [],
   "source": [
    "# Use pd.unique() to extract a numpy array with the unique elements in that column\n",
    "\n",
    "array_unique_cylinders = pd.unique(carfeatures[\"cylinders\"])\n",
    "print(array_unique_cylinders)\n",
    "print(type(array_unique_cylinders))"
   ]
  },
  {
   "cell_type": "markdown",
   "id": "0c5eeced",
   "metadata": {},
   "source": [
    "<font size = \"4\">\n",
    "\n",
    "Compute two overlapping plots"
   ]
  },
  {
   "cell_type": "code",
   "execution_count": null,
   "id": "8133a3f9",
   "metadata": {},
   "outputs": [],
   "source": [
    "# If we call plt.scatter() twice to display two plots\n",
    "# To display all plots simultaneously we include plt.show() at the very end.\n",
    "# The idea is that the graphs are stacked on top of each other\n",
    "\n",
    "df_8 = carfeatures.query(\"cylinders == 8\")\n",
    "df_4 = carfeatures.query(\"cylinders == 4\")\n",
    "\n",
    "plt.scatter(x = df_8[\"weight\"],y = df_8[\"acceleration\"])\n",
    "plt.scatter(x = df_4[\"weight\"],y = df_4[\"acceleration\"])\n",
    "plt.legend(labels = [\"8\",\"4\"],\n",
    "           title  = \"Cylinders\")\n",
    "\n",
    "plt.xlabel(\"Weight\")\n",
    "plt.ylabel(\"Acceleration\")\n",
    "plt.show()\n",
    "\n",
    "# Note: If we put plt.show() in between the plots, then the results will\n",
    "# be shown on separate graphs instead."
   ]
  },
  {
   "cell_type": "markdown",
   "id": "3bb1c53d",
   "metadata": {},
   "source": [
    "<font size = \"4\">\n",
    "\n",
    "Compute plots by all categories"
   ]
  },
  {
   "cell_type": "code",
   "execution_count": null,
   "id": "9db40b3d",
   "metadata": {},
   "outputs": [],
   "source": [
    "# Compute number of unique categories\n",
    "list_unique_cylinders = pd.unique(carfeatures[\"cylinders\"])\n",
    "\n",
    "# Use a for loop to plot a scatter plot between \"weight\" and \"acceleration\"\n",
    "# for each category. Each plot  will have a different color\n",
    "\n",
    "for category in list_unique_cylinders:\n",
    "    df   = carfeatures.query(\"cylinders == @category\")\n",
    "    plt.scatter(x = df[\"weight\"], y = df[\"acceleration\"])\n",
    "    \n",
    "# Add labels and a legends    \n",
    "plt.xlabel(\"Weight\")\n",
    "plt.ylabel(\"Acceleration\")\n",
    "plt.legend(labels = list_unique_cylinders,\n",
    "           title  = \"Cylinders\")\n",
    "plt.show()"
   ]
  },
  {
   "cell_type": "markdown",
   "id": "0ead2815",
   "metadata": {},
   "source": [
    "<font size=\"4\">\n",
    "\n",
    "**Exercise:** Compute a histogram of \"mpg\" by cylinder count for cars with 4, 6, and 8 cylinders.Here is what it might look like (using a fake dataset):\n",
    "\n",
    "<img src=\"data_raw/fake_histogram.png\" alt=\"drawing\" width=\"400\"/>\n",
    "\n",
    "\n",
    "You can make the histograms transparent by adjusting ```alpha``` in\n",
    "\n",
    "```python\n",
    "    plt.hist(x = ..., alpha = 0.5)\n",
    "```"
   ]
  },
  {
   "cell_type": "code",
   "execution_count": null,
   "id": "b41a906e",
   "metadata": {},
   "outputs": [],
   "source": [
    "# your code here\n",
    "\n"
   ]
  },
  {
   "cell_type": "code",
   "execution_count": null,
   "id": "155f46ac",
   "metadata": {},
   "outputs": [],
   "source": []
  }
 ],
 "metadata": {
  "kernelspec": {
   "display_name": "base",
   "language": "python",
   "name": "python3"
  },
  "language_info": {
   "codemirror_mode": {
    "name": "ipython",
    "version": 3
   },
   "file_extension": ".py",
   "mimetype": "text/x-python",
   "name": "python",
   "nbconvert_exporter": "python",
   "pygments_lexer": "ipython3",
   "version": "3.13.5"
  }
 },
 "nbformat": 4,
 "nbformat_minor": 5
}
